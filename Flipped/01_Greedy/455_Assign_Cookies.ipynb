{
 "cells": [
  {
   "cell_type": "markdown",
   "id": "80efe280",
   "metadata": {},
   "source": [
    "# 455. Assign Cookies\n",
    "\n",
    "<br/>\n",
    "\n",
    "📎 문제 출처: https://leetcode.com/problems/assign-cookies/\n",
    "\n",
    "\n",
    "> Assume you are an awesome parent and want to give your children some cookies. But, you should give each child at most one cookie. <br/><br/>\n",
    "Each child i has a greed factor g[i], which is the minimum size of a cookie that the child will be content with; and each cookie j has a size s[j]. If s[j] >= g[i], we can assign the cookie j to the child i, and the child i will be content. Your goal is to maximize the number of your content children and output the maximum number.\n"
   ]
  },
  {
   "cell_type": "code",
   "execution_count": 1,
   "id": "5776e514",
   "metadata": {},
   "outputs": [],
   "source": [
    "class Solution(object):\n",
    "    def findContentChildren(self, g, s):\n",
    "        \"\"\"\n",
    "        :type g: List[int]\n",
    "        :type s: List[int]\n",
    "        :rtype: int\n",
    "        \"\"\""
   ]
  },
  {
   "cell_type": "markdown",
   "id": "0d9249da",
   "metadata": {},
   "source": [
    "### 문제 해석\n",
    "- 각 아이들 `j`에게는 `g[j]`라는 greed factor가 있고,\n",
    "- 각 쿠키 `i`에게는 `s[i]`라는 각 쿠키 개수가 있다.\n",
    "\n",
    "만약 `s[j] >= g[i]` 라면, 쿠키 `j`를 아이 `i`에게 줄 수 있다.\n",
    "\n",
    "### 문제 접근법\n",
    "- 먼저 정렬이 안 될 수 있기 때문에 정렬을 해주었고, 편의상 reverse()를 취해주었다.\n",
    "- s[i]>=g[j]가 된다면 쿠키를 줄 수 있기 때문에 ans에 1을 더해주고, 해당 아이는 리스트에서 제거해준다. 이 후 아이부터 다시 반복한다."
   ]
  },
  {
   "cell_type": "code",
   "execution_count": 87,
   "id": "0de8f711",
   "metadata": {},
   "outputs": [],
   "source": [
    "class Solution(object):\n",
    "    def findContentChildren(self, g, s):\n",
    "        \"\"\"\n",
    "        :type g: List[int]\n",
    "        :type s: List[int]\n",
    "        :rtype: int\n",
    "        \"\"\"\n",
    "        \n",
    "        g.sort()\n",
    "        g.reverse()\n",
    "        s.sort()\n",
    "        s.reverse()\n",
    "        \n",
    "        ans = 0\n",
    "        \n",
    "        for i in range(len(s)):\n",
    "            for j in range(len(g)):\n",
    "                if s[i] >= g[j]:\n",
    "                    ans += 1\n",
    "#                     print(s[i], g[j])\n",
    "                    g.pop(j)\n",
    "                    break\n",
    "\n",
    "        return ans"
   ]
  },
  {
   "cell_type": "code",
   "execution_count": 88,
   "id": "273e7594",
   "metadata": {},
   "outputs": [
    {
     "name": "stdout",
     "output_type": "stream",
     "text": [
      "1\n"
     ]
    }
   ],
   "source": [
    "solution = Solution()\n",
    "solution.findContentChildren(g = [1,2,3], s = [1,1])"
   ]
  },
  {
   "cell_type": "code",
   "execution_count": 89,
   "id": "4596f954",
   "metadata": {},
   "outputs": [
    {
     "name": "stdout",
     "output_type": "stream",
     "text": [
      "2\n"
     ]
    }
   ],
   "source": [
    "solution.findContentChildren(g = [1,2], s = [1,2,3])"
   ]
  },
  {
   "cell_type": "markdown",
   "id": "f81757d5",
   "metadata": {},
   "source": [
    "- reverse()를 취해주지 않고 `reversed()`를 이용해 거꾸로 접근하는 것도 가능!"
   ]
  },
  {
   "cell_type": "code",
   "execution_count": 98,
   "id": "262ed581",
   "metadata": {},
   "outputs": [],
   "source": [
    "class Solution(object):\n",
    "    def findContentChildren(self, g, s):\n",
    "        \"\"\"\n",
    "        :type g: List[int]\n",
    "        :type s: List[int]\n",
    "        :rtype: int\n",
    "        \"\"\"\n",
    "        \n",
    "        g.sort()\n",
    "        s.sort()\n",
    "        \n",
    "        ans = 0\n",
    "        \n",
    "        for i in reversed(range(len(s))):\n",
    "            for j in reversed(range(len(g))):\n",
    "                if s[i] >= g[j]:\n",
    "                    ans += 1\n",
    "                    g.pop(j)\n",
    "                    break\n",
    "\n",
    "        return ans"
   ]
  },
  {
   "cell_type": "code",
   "execution_count": 99,
   "id": "a12bbd2e",
   "metadata": {},
   "outputs": [
    {
     "data": {
      "text/plain": [
       "1"
      ]
     },
     "execution_count": 99,
     "metadata": {},
     "output_type": "execute_result"
    }
   ],
   "source": [
    "solution = Solution()\n",
    "solution.findContentChildren(g = [1,2,3], s = [1,1])"
   ]
  },
  {
   "cell_type": "code",
   "execution_count": 100,
   "id": "7aab2a9c",
   "metadata": {},
   "outputs": [
    {
     "data": {
      "text/plain": [
       "2"
      ]
     },
     "execution_count": 100,
     "metadata": {},
     "output_type": "execute_result"
    }
   ],
   "source": [
    "solution.findContentChildren(g = [1,2], s = [1,2,3])"
   ]
  },
  {
   "cell_type": "code",
   "execution_count": null,
   "id": "493e4889",
   "metadata": {},
   "outputs": [],
   "source": []
  }
 ],
 "metadata": {
  "kernelspec": {
   "display_name": "Python 3",
   "language": "python",
   "name": "python3"
  },
  "language_info": {
   "codemirror_mode": {
    "name": "ipython",
    "version": 3
   },
   "file_extension": ".py",
   "mimetype": "text/x-python",
   "name": "python",
   "nbconvert_exporter": "python",
   "pygments_lexer": "ipython3",
   "version": "3.8.8"
  },
  "toc": {
   "base_numbering": 1,
   "nav_menu": {},
   "number_sections": true,
   "sideBar": true,
   "skip_h1_title": false,
   "title_cell": "Table of Contents",
   "title_sidebar": "Contents",
   "toc_cell": false,
   "toc_position": {},
   "toc_section_display": true,
   "toc_window_display": false
  },
  "varInspector": {
   "cols": {
    "lenName": 16,
    "lenType": 16,
    "lenVar": 40
   },
   "kernels_config": {
    "python": {
     "delete_cmd_postfix": "",
     "delete_cmd_prefix": "del ",
     "library": "var_list.py",
     "varRefreshCmd": "print(var_dic_list())"
    },
    "r": {
     "delete_cmd_postfix": ") ",
     "delete_cmd_prefix": "rm(",
     "library": "var_list.r",
     "varRefreshCmd": "cat(var_dic_list()) "
    }
   },
   "types_to_exclude": [
    "module",
    "function",
    "builtin_function_or_method",
    "instance",
    "_Feature"
   ],
   "window_display": false
  }
 },
 "nbformat": 4,
 "nbformat_minor": 5
}
