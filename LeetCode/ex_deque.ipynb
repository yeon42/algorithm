{
 "cells": [
  {
   "cell_type": "markdown",
   "id": "61561a72",
   "metadata": {},
   "source": [
    "## 스택과 큐의 기능을 한 번에 deque\n",
    "- 📎 출처: https://dongdongfather.tistory.com/72\n",
    "\n",
    "<br/>\n",
    "\n",
    "**deque**: 스택과 큐의 기능을 모든 가진 객체로 출입구를 양쪽에 가지고 있음\n",
    "- 스택으로 써도 ok, 큐로 써도 ok!"
   ]
  },
  {
   "cell_type": "code",
   "execution_count": 1,
   "id": "6ed6d111",
   "metadata": {},
   "outputs": [
    {
     "data": {
      "text/plain": [
       "deque(['l', 'o', 'v', 'e'])"
      ]
     },
     "execution_count": 1,
     "metadata": {},
     "output_type": "execute_result"
    }
   ],
   "source": [
    "from collections import deque\n",
    "\n",
    "dq = deque('love')\n",
    "dq"
   ]
  },
  {
   "cell_type": "markdown",
   "id": "c41fe02f",
   "metadata": {},
   "source": [
    "> 각 문자가 요소로 된 리스트 형태의 deque가 만들어짐"
   ]
  },
  {
   "cell_type": "markdown",
   "id": "1b5a0544",
   "metadata": {},
   "source": [
    "**1. 스택 구현: append(), pop()** <br/>\n",
    "- `스택`은 마지막 (오른쪽 끝)에서 입출력\n",
    "- 입력 시에는 append(), 출력 시에는 pop()"
   ]
  },
  {
   "cell_type": "code",
   "execution_count": 2,
   "id": "1cfb48c4",
   "metadata": {},
   "outputs": [
    {
     "data": {
      "text/plain": [
       "deque(['l', 'o', 'v', 'e', 'm'])"
      ]
     },
     "execution_count": 2,
     "metadata": {},
     "output_type": "execute_result"
    }
   ],
   "source": [
    "dq.append('m')\n",
    "dq"
   ]
  },
  {
   "cell_type": "code",
   "execution_count": 3,
   "id": "6e19933d",
   "metadata": {},
   "outputs": [
    {
     "data": {
      "text/plain": [
       "deque(['l', 'o', 'v', 'e'])"
      ]
     },
     "execution_count": 3,
     "metadata": {},
     "output_type": "execute_result"
    }
   ],
   "source": [
    "dq.pop()\n",
    "dq"
   ]
  },
  {
   "cell_type": "markdown",
   "id": "dc7852a4",
   "metadata": {},
   "source": [
    "**2. 큐 구현: appendleft(), pop(), append(), popleft()** <br/>\n",
    "- `큐`는 왼쪽(처음)에서 입력되고, 오른쪽(마지막)에서 출력됨\n",
    "- 오른쪽 출력 시는 위와 같이 pop() 사용\n",
    "- 왼쪽에 값 입력할 때는 appendleft() 메서드 사용\n",
    "- 반대로 오른쪽에 값 넣고 싶다면 append(), 왼쪽에서 값 빼고 싶으면 popleft()"
   ]
  },
  {
   "cell_type": "code",
   "execution_count": 4,
   "id": "d87454fe",
   "metadata": {},
   "outputs": [
    {
     "data": {
      "text/plain": [
       "deque(['I', 'l', 'o', 'v', 'e'])"
      ]
     },
     "execution_count": 4,
     "metadata": {},
     "output_type": "execute_result"
    }
   ],
   "source": [
    "dq.appendleft('I')\n",
    "dq"
   ]
  },
  {
   "cell_type": "code",
   "execution_count": 5,
   "id": "2284d680",
   "metadata": {},
   "outputs": [
    {
     "data": {
      "text/plain": [
       "deque(['I', 'l', 'o', 'v'])"
      ]
     },
     "execution_count": 5,
     "metadata": {},
     "output_type": "execute_result"
    }
   ],
   "source": [
    "dq.pop()\n",
    "dq"
   ]
  },
  {
   "cell_type": "markdown",
   "id": "790281ef",
   "metadata": {},
   "source": [
    "**3. deque 확장하기: extend(), extendleft()** <br/>\n",
    "- deque 확장하고 싶다면 extend() 메서드 사용\n",
    "- 기본적으로 오른쪽으로 확장\n",
    "- 왼쪽으로 확장하고 싶다면 extendleft()"
   ]
  },
  {
   "cell_type": "code",
   "execution_count": 6,
   "id": "fa30c216",
   "metadata": {},
   "outputs": [
    {
     "data": {
      "text/plain": [
       "deque(['I', 'l', 'o', 'v'])"
      ]
     },
     "execution_count": 6,
     "metadata": {},
     "output_type": "execute_result"
    }
   ],
   "source": [
    "dq"
   ]
  },
  {
   "cell_type": "code",
   "execution_count": 7,
   "id": "156252f4",
   "metadata": {},
   "outputs": [
    {
     "data": {
      "text/plain": [
       "deque(['I', 'l', 'o', 'v', 'y', 'o', 'u'])"
      ]
     },
     "execution_count": 7,
     "metadata": {},
     "output_type": "execute_result"
    }
   ],
   "source": [
    "dq.extend('you')\n",
    "dq"
   ]
  },
  {
   "cell_type": "code",
   "execution_count": 8,
   "id": "16b323f8",
   "metadata": {},
   "outputs": [
    {
     "data": {
      "text/plain": [
       "deque(['I', 'I', 'l', 'o', 'v', 'y', 'o', 'u'])"
      ]
     },
     "execution_count": 8,
     "metadata": {},
     "output_type": "execute_result"
    }
   ],
   "source": [
    "dq.extendleft('I')\n",
    "dq"
   ]
  },
  {
   "cell_type": "markdown",
   "id": "6a4b3b67",
   "metadata": {},
   "source": [
    "**4. 리스트처럼 사용: insert(), remove()**\n",
    "- deque는 리스트처럼 중간 내용을 수정하거나 새 항목을 입력하거나 삭제할 수 있음"
   ]
  },
  {
   "cell_type": "code",
   "execution_count": 9,
   "id": "78b024e1",
   "metadata": {},
   "outputs": [
    {
     "data": {
      "text/plain": [
       "deque(['I', 'I', 'l', 'o', 'v', 'y', 'o', 'u'])"
      ]
     },
     "execution_count": 9,
     "metadata": {},
     "output_type": "execute_result"
    }
   ],
   "source": [
    "dq"
   ]
  },
  {
   "cell_type": "code",
   "execution_count": 10,
   "id": "f65c0054",
   "metadata": {},
   "outputs": [
    {
     "data": {
      "text/plain": [
       "deque(['I', 'I', 'n', 'o', 'v', 'y', 'o', 'u'])"
      ]
     },
     "execution_count": 10,
     "metadata": {},
     "output_type": "execute_result"
    }
   ],
   "source": [
    "dq[2] = 'n'\n",
    "dq"
   ]
  },
  {
   "cell_type": "markdown",
   "id": "86d26777",
   "metadata": {},
   "source": [
    "- 새 항목 입력하거나 기존 항목 삭제할 때는 insert() 메서드와 remove() 메서드 사용"
   ]
  },
  {
   "cell_type": "code",
   "execution_count": 11,
   "id": "64458f48",
   "metadata": {},
   "outputs": [
    {
     "data": {
      "text/plain": [
       "deque(['l', 'o', 'v', 'e'])"
      ]
     },
     "execution_count": 11,
     "metadata": {},
     "output_type": "execute_result"
    }
   ],
   "source": [
    "dq = deque('love')\n",
    "dq"
   ]
  },
  {
   "cell_type": "code",
   "execution_count": 12,
   "id": "0eb6246b",
   "metadata": {},
   "outputs": [
    {
     "data": {
      "text/plain": [
       "deque(['K', 'l', 'o', 'v', 'e'])"
      ]
     },
     "execution_count": 12,
     "metadata": {},
     "output_type": "execute_result"
    }
   ],
   "source": [
    "dq.insert(0, 'K')\n",
    "dq"
   ]
  },
  {
   "cell_type": "code",
   "execution_count": 13,
   "id": "28d8313e",
   "metadata": {},
   "outputs": [
    {
     "data": {
      "text/plain": [
       "deque(['K', 'l', 'o', 'v', 'e', 'K'])"
      ]
     },
     "execution_count": 13,
     "metadata": {},
     "output_type": "execute_result"
    }
   ],
   "source": [
    "dq.insert(100, 'K') # 100번째 항목은 없으니까 가장 큰 쪽에 추가\n",
    "dq"
   ]
  },
  {
   "cell_type": "code",
   "execution_count": 14,
   "id": "ddb6a670",
   "metadata": {},
   "outputs": [
    {
     "data": {
      "text/plain": [
       "deque(['l', 'o', 'v', 'e', 'K'])"
      ]
     },
     "execution_count": 14,
     "metadata": {},
     "output_type": "execute_result"
    }
   ],
   "source": [
    "dq.remove('K') # 같은 항목 있을 때 지우면 왼쪽부터 삭제됨\n",
    "dq"
   ]
  },
  {
   "cell_type": "code",
   "execution_count": 15,
   "id": "16d27be3",
   "metadata": {},
   "outputs": [
    {
     "data": {
      "text/plain": [
       "deque(['l', 'o', 'v', 'e'])"
      ]
     },
     "execution_count": 15,
     "metadata": {},
     "output_type": "execute_result"
    }
   ],
   "source": [
    "dq.remove('K')\n",
    "dq"
   ]
  },
  {
   "cell_type": "markdown",
   "id": "3d0696ee",
   "metadata": {},
   "source": [
    "**5. deque의 내용을 좌우로 반전: reverse()**\n",
    "- deque 반전시키고 싶다면 reverse() 메서드 사용하기"
   ]
  },
  {
   "cell_type": "code",
   "execution_count": 16,
   "id": "160340a3",
   "metadata": {},
   "outputs": [
    {
     "data": {
      "text/plain": [
       "deque(['l', 'o', 'v', 'e'])"
      ]
     },
     "execution_count": 16,
     "metadata": {},
     "output_type": "execute_result"
    }
   ],
   "source": [
    "dq"
   ]
  },
  {
   "cell_type": "code",
   "execution_count": 17,
   "id": "d67efea6",
   "metadata": {},
   "outputs": [
    {
     "data": {
      "text/plain": [
       "deque(['e', 'v', 'o', 'l'])"
      ]
     },
     "execution_count": 17,
     "metadata": {},
     "output_type": "execute_result"
    }
   ],
   "source": [
    "dq.reverse()\n",
    "dq"
   ]
  }
 ],
 "metadata": {
  "kernelspec": {
   "display_name": "Python 3 (ipykernel)",
   "language": "python",
   "name": "python3"
  },
  "language_info": {
   "codemirror_mode": {
    "name": "ipython",
    "version": 3
   },
   "file_extension": ".py",
   "mimetype": "text/x-python",
   "name": "python",
   "nbconvert_exporter": "python",
   "pygments_lexer": "ipython3",
   "version": "3.9.7"
  }
 },
 "nbformat": 4,
 "nbformat_minor": 5
}
